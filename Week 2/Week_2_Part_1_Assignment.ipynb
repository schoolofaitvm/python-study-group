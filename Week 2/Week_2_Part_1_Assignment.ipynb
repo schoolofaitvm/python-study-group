{
  "nbformat": 4,
  "nbformat_minor": 0,
  "metadata": {
    "colab": {
      "name": "Week 2 Part 1 Assignment.ipynb",
      "version": "0.3.2",
      "provenance": [],
      "collapsed_sections": []
    },
    "kernelspec": {
      "name": "python3",
      "display_name": "Python 3"
    }
  },
  "cells": [
    {
      "metadata": {
        "id": "p0m9LbIveuis",
        "colab_type": "text"
      },
      "cell_type": "markdown",
      "source": [
        "# Week 2 Part 1 Assignments"
      ]
    },
    {
      "metadata": {
        "id": "eCOgOSARdtsX",
        "colab_type": "text"
      },
      "cell_type": "markdown",
      "source": [
        "1. Understand number and answer the following question.\n",
        "  1. Assign to 10 and 2 on two variables 'a' and 'b' and perform addition, subtraction, multiplication, division and modulo operation. You should properly print answer during each operation."
      ]
    },
    {
      "metadata": {
        "id": "jrg4iBQ-epaY",
        "colab_type": "code",
        "colab": {}
      },
      "cell_type": "code",
      "source": [
        "# 1.1 Type your answer here."
        a=10
        b=2
        print(a+b)
        print(a-b)
        print(a*b)
        print(a/b)
        print(a%b)
      ],
      "execution_count": 5,
      "outputs": [12
8
20
5.0
0]
    },
    {
      "metadata": {
        "id": "Pu-nFIeQe08e",
        "colab_type": "text"
      },
      "cell_type": "markdown",
      "source": [
        "2. Write different rules for naming a variable/identifier."
      ]
    },
    {
      "metadata": {
        "id": "EWlJFI2le_Ev",
        "colab_type": "code",
        "colab": {}
      },
      "cell_type": "code",
      "source": [
        "# 2 Type your answer here"
      ],
      "execution_count": 0,
      "outputs": []
    },
    {
      "metadata": {
        "id": "RBzlvoyBfC0a",
        "colab_type": "text"
      },
      "cell_type": "markdown",
      "source": [
        "3.  Understand string and answer the following question.   \n",
        " 1. Assign 2 string on two variable and perform concatenation.\n",
        " 2. Assign a string in a variable and print the reverse of the string.\n",
        " 3. Assign 'lower' to a variable and convert it to upper case.\n",
        " 4. Assign 'school of ai' into a variable and split it into individual words\n",
        " 5. Assign 'school of ai' into a variable and find the starting index  of word 'ai'"
      ]
    },
    {
      "metadata": {
        "id": "NKgITA5IgGf9",
        "colab_type": "code",
        "colab": {}
      },
      "cell_type": "code",
      "source": [
        "# 3.1 Type your answer here"
        a="Hello "
        b ="World"
        a+b
        d[10:]
      
      ],
      "execution_count": 0,
      "outputs": []
    },
    {
      "metadata": {
        "id": "AiLVTn-jgJLx",
        "colab_type": "code",
        "colab": {}
      },
      "cell_type": "code",
      "source": [
        "# 3.2 Type your answer here"
        c="welcome"
        c.upper()
      ],
      "execution_count": 0,
      "outputs": []
    },
    {
      "metadata": {
        "id": "HgCqxoczgJUo",
        "colab_type": "code",
        "colab": {}
      },
      "cell_type": "code",
      "source": [
        "# 3.3 Type your answer here"
         d="school of ai"
        d.split()
      ],
      "execution_count": 0,
      "outputs": []
    },
    {
      "metadata": {
        "id": "xdbj1jW1gv_s",
        "colab_type": "code",
        "colab": {}
      },
      "cell_type": "code",
      "source": [
        "# 3.4 Type your answer here"
      ],
      "execution_count": 0,
      "outputs": []
    },
    {
      "metadata": {
        "id": "etzffkuEhgTP",
        "colab_type": "code",
        "colab": {}
      },
      "cell_type": "code",
      "source": [
        "# 3.5 Type your answer here"
      ],
      "execution_count": 0,
      "outputs": []
    },
    {
      "metadata": {
        "colab_type": "text",
        "id": "ruHpADeRxOzD"
      },
      "cell_type": "markdown",
      "source": [
        "4.  Understand list and answer the following question.   \n",
        "  1. Create a list with values 10,20,30,40 and find its length and sum\n",
        "  2. Create a list with values 11,22,55. Pop the last element and store it in a variable called 'x'\n",
        "  3. Create a list with values 10,20,40 and insert 30 in index 2.\n",
        "  4. Create a list with values 'a','b','c' and remove 'b' from list\n",
        "  5. Create a list with values 5,'a','b','c',1,5. select values from index 1 to 3 and store it in a variable called 'alpha_list' using slicing."
      ]
    },
    {
      "metadata": {
        "colab_type": "code",
        "id": "uZp1uPLZxOzU",
        "colab": {}
      },
      "cell_type": "code",
      "source": [
        "# 4.1 Type your answer here"
      ],
      "execution_count": 0,
      "outputs": []
    },
    {
      "metadata": {
        "colab_type": "code",
        "id": "-2OQGCp2xOzl",
        "colab": {}
      },
      "cell_type": "code",
      "source": [
        "# 4.2 Type your answer here"
      ],
      "execution_count": 0,
      "outputs": []
    },
    {
      "metadata": {
        "colab_type": "code",
        "id": "RwXCwmxdxOzy",
        "colab": {}
      },
      "cell_type": "code",
      "source": [
        "# 4.3 Type your answer here"
      ],
      "execution_count": 0,
      "outputs": []
    },
    {
      "metadata": {
        "colab_type": "code",
        "id": "p-7wB7S-xOz6",
        "colab": {}
      },
      "cell_type": "code",
      "source": [
        "# 4.4 Type your answer here"
      ],
      "execution_count": 0,
      "outputs": []
    },
    {
      "metadata": {
        "colab_type": "code",
        "id": "1HelPyBhxO0E",
        "colab": {}
      },
      "cell_type": "code",
      "source": [
        "# 4.5 Type your answer here"
      ],
      "execution_count": 0,
      "outputs": []
    },
    {
      "metadata": {
        "colab_type": "code",
        "id": "MJ7Xl3xGzHpb",
        "colab": {}
      },
      "cell_type": "code",
      "source": [
        "# 4.5 Type your answer here"
      ],
      "execution_count": 0,
      "outputs": []
    },
    {
      "metadata": {
        "colab_type": "text",
        "id": "UOLpFCOZzROl"
      },
      "cell_type": "markdown",
      "source": [
        "5.  Understand dictionary and answer the following question.   \n",
        "  1. Create a dict with key '1' and value 'odd', key '2' and value 'even'\n",
        "  2. Create a dict with key '1' and value 'odd', key '2' and value 'even' .Then replace 'even' of key 2 with 'EVEN'"
      ]
    },
    {
      "metadata": {
        "colab_type": "code",
        "id": "mbIBaszTzRO-",
        "colab": {}
      },
      "cell_type": "code",
      "source": [
        "# 5.1 Type your answer here"
      ],
      "execution_count": 0,
      "outputs": []
    },
    {
      "metadata": {
        "colab_type": "code",
        "id": "uxux8opvzRPP",
        "colab": {}
      },
      "cell_type": "code",
      "source": [
        "# 5.2 Type your answer here"
      ],
      "execution_count": 0,
      "outputs": []
    }
  ]
}
